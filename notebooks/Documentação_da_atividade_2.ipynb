{
 "cells": [
  {
   "cell_type": "markdown",
   "metadata": {
    "id": "GsHMpoMJXDVD"
   },
   "source": [
    "Manipulação de arquivo CSV (Running_Example_v5_complete):\n",
    "\n",
    "\n",
    "1 - Ler em formato dataset o arquivo (Running_Example_v5_complete)\n",
    "\n",
    "2 - Verificar como realizar o calculo da distância entre 2 pontos (Distância Euclideana)\n",
    "\n",
    "Nesse documento estarei explicando sobre as atividades da primeira semana e como os algoritmos desenvolvidos funcionam.\n",
    "\n",
    "Atividade 2:"
   ]
  },
  {
   "cell_type": "code",
   "execution_count": null,
   "metadata": {
    "id": "TcqrhaaGW2pG"
   },
   "outputs": [],
   "source": [
    "import pandas as pd\n",
    "import numpy as np"
   ]
  },
  {
   "cell_type": "markdown",
   "metadata": {
    "id": "fj9k1oBqXWLf"
   },
   "source": [
    "Importa as bibliotecas pandas e numpy. pandas é usada para manipulação de dados em formato de tabela (DataFrames), e numpy é usada para realizar cálculos matemáticos e operações numéricas de forma eficiente."
   ]
  },
  {
   "cell_type": "code",
   "execution_count": null,
   "metadata": {
    "id": "KVsXjjDmXZz_"
   },
   "outputs": [],
   "source": [
    "tabela = pd.read_csv(\"Running_Example_v5_complete.csv\", sep=\",\")"
   ]
  },
  {
   "cell_type": "markdown",
   "metadata": {
    "id": "C7yY_K30Xcn4"
   },
   "source": [
    "Lê um arquivo CSV chamado \"Running_Example_v5_complete.csv\" e armazena o conteúdo no DataFrame tabela. O argumento sep=\",\" define que o separador entre os campos do CSV é uma vírgula."
   ]
  },
  {
   "cell_type": "code",
   "execution_count": null,
   "metadata": {
    "id": "3-rVOCOdYRUn"
   },
   "outputs": [],
   "source": [
    "tabela['lat'] = tabela['lat_lon'].apply(lambda x: float(str(x).split()[0]))\n",
    "tabela['lon'] = tabela['lat_lon'].apply(lambda x: float(str(x).split()[1]))"
   ]
  },
  {
   "cell_type": "markdown",
   "metadata": {
    "id": "Ob7N9f29YWkn"
   },
   "source": [
    "Cria duas novas colunas no DataFrame:\n",
    "lat: extrai a latitude dos valores da coluna lat_lon. A função split() separa o texto da coluna com base nos espaços e, em seguida, o primeiro valor (índice 0) é convertido para float e armazenado como latitude.\n",
    "lon: da mesma forma, extrai a longitude, mas pega o segundo valor (índice 1) do resultado de split() e o converte para float.\n",
    "Essas operações são aplicadas em cada linha da coluna lat_lon utilizando apply(), que aplica uma função a cada elemento da coluna."
   ]
  },
  {
   "cell_type": "code",
   "execution_count": null,
   "metadata": {
    "id": "iz7XkEr6YZt_"
   },
   "outputs": [],
   "source": [
    "def distancia_euclidiana(lat1, lon1, lat2, lon2):\n",
    "    return np.sqrt((lat2 - lat1)**2 + (lon2 - lon1)**2)"
   ]
  },
  {
   "cell_type": "markdown",
   "metadata": {
    "id": "ctVDjzazYeAm"
   },
   "source": [
    "Define uma função distancia_euclidiana que calcula a distância euclidiana (a distância reta entre dois pontos em um plano) entre dois pares de coordenadas (latitude e longitude). O cálculo segue a fórmula padrão da distância euclidiana, usando a função sqrt() de numpy para tirar a raiz quadrada."
   ]
  },
  {
   "cell_type": "code",
   "execution_count": null,
   "metadata": {
    "id": "DnXHn3XtYghI"
   },
   "outputs": [],
   "source": [
    "tabela[\"distancia_euclidiana\"] = np.nan"
   ]
  },
  {
   "cell_type": "markdown",
   "metadata": {
    "id": "p47qf3aEYkFX"
   },
   "source": [
    "Cria uma nova coluna chamada distancia_euclidiana no DataFrame tabela e preenche inicialmente todos os valores com NaN (valor \"não disponível\"). Esse é um placeholder para que, posteriormente, as distâncias possam ser calculadas e preenchidas."
   ]
  },
  {
   "cell_type": "code",
   "execution_count": null,
   "metadata": {
    "id": "e8BaAWxDYmk_"
   },
   "outputs": [],
   "source": [
    "for i in range(1, len(tabela)):\n",
    "   if tabela['tid'][i] == tabela['tid'][i - 1]:\n",
    "        lat1, lon1 = tabela['lat'][i - 1], tabela['lon'][i - 1]\n",
    "        lat2, lon2 = tabela['lat'][i], tabela['lon'][i]\n",
    "        tabela.at[i, 'distancia_euclidiana'] = distancia_euclidiana(lat1, lon1, lat2, lon2)"
   ]
  },
  {
   "cell_type": "markdown",
   "metadata": {
    "id": "-4uFW5ZiYrTn"
   },
   "source": [
    "for i in range(1, len(tabela)): Inicia um loop que percorre todas as linhas do DataFrame, começando da segunda linha (índice 1) até o final. A ideia é comparar cada linha com a anterior.\n",
    "\n",
    "if tabela['tid'][i] == tabela['tid'][i - 1]: Verifica se a linha atual e a linha anterior pertencem à mesma trajetória (tid igual). Se for o mesmo tid, calcula a distância entre os pontos geográficos.\n",
    "\n",
    "lat1, lon1 = tabela['lat'][i - 1], tabela['lon'][i - 1]: Armazena a latitude e longitude do ponto anterior (i-1).\n",
    "\n",
    "lat2, lon2 = tabela['lat'][i], tabela['lon'][i]: Armazena a latitude e longitude do ponto atual (i).\n",
    "\n",
    "tabela.at[i, 'distancia_euclidiana'] = distancia_euclidiana(lat1, lon1, lat2, lon2): Calcula a distância euclidiana entre os pontos e armazena o resultado na coluna distancia_euclidiana para a linha atual."
   ]
  },
  {
   "cell_type": "code",
   "execution_count": null,
   "metadata": {
    "id": "Q4rJmmLUYvAf"
   },
   "outputs": [],
   "source": [
    "print(tabela)"
   ]
  },
  {
   "cell_type": "markdown",
   "metadata": {
    "id": "qn_MUdyuZK8n"
   },
   "source": [
    "Exibe o DataFrame atualizado, que agora contém as colunas lat, lon e distancia_euclidiana com os resultados calculados."
   ]
  }
 ],
 "metadata": {
  "colab": {
   "provenance": []
  },
  "kernelspec": {
   "display_name": "Python 3 (ipykernel)",
   "language": "python",
   "name": "python3"
  },
  "language_info": {
   "codemirror_mode": {
    "name": "ipython",
    "version": 3
   },
   "file_extension": ".py",
   "mimetype": "text/x-python",
   "name": "python",
   "nbconvert_exporter": "python",
   "pygments_lexer": "ipython3",
   "version": "3.11.5"
  }
 },
 "nbformat": 4,
 "nbformat_minor": 1
}
