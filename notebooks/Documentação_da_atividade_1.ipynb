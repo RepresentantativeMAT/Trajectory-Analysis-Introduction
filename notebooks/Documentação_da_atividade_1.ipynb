{
 "cells": [
  {
   "cell_type": "markdown",
   "metadata": {
    "id": "OMbklSFhR0mr"
   },
   "source": [
    "Manipulação de arquivo CSV (Running_Example_v5_complete):\n",
    "\n",
    "\n",
    "\n",
    "1 - Ler em formato dataset o arquivo (Running_Example_v5_complete)\n",
    "\n",
    "2 - Retornar quantas trajetórias possui no dataset (o tid representa cada ID de uma trajetória)\n",
    "\n",
    "Nesse documento estarei explicando sobre as atividades da primeira semana e como os algoritmos desenvolvidos funcionam.\n",
    "\n",
    "\n",
    "\n",
    "Atividade 1:"
   ]
  },
  {
   "cell_type": "code",
   "execution_count": 9,
   "metadata": {
    "id": "YnFk8AxiRr6m"
   },
   "outputs": [],
   "source": [
    "import pandas as pd"
   ]
  },
  {
   "cell_type": "markdown",
   "metadata": {
    "id": "79U_2bOwSjsU"
   },
   "source": [
    "Importa o módulo pandas, que é uma biblioteca poderosa para análise e manipulação de dados em Python. A função pd é um atalho para facilitar o uso das funções do módulo."
   ]
  },
  {
   "cell_type": "code",
   "execution_count": 10,
   "metadata": {
    "id": "aSZ94pMLSrTU"
   },
   "outputs": [],
   "source": [
    "tabela = pd.read_csv(\"Running_Example_v5_complete.csv\", sep=\",\")"
   ]
  },
  {
   "cell_type": "markdown",
   "metadata": {
    "id": "FCzhKmJcSyVj"
   },
   "source": [
    "Lê um arquivo CSV chamado \"Running_Example_v5_complete.csv\" usando a função read_csv() da biblioteca pandas. O parâmetro sep=\",\" indica que o separador entre as colunas no arquivo CSV é uma vírgula. O conteúdo do arquivo é armazenado no DataFrame tabela."
   ]
  },
  {
   "cell_type": "code",
   "execution_count": 11,
   "metadata": {
    "id": "-i8YlcIsS37D"
   },
   "outputs": [
    {
     "name": "stdout",
     "output_type": "stream",
     "text": [
      "    tid    lat_lon  time  price         poi weather  precip\n",
      "0     1    0.0 6.2   345     -1        Home   Clear      10\n",
      "1     1    0.8 6.2   717      2     Library  Clouds      20\n",
      "2     1     3.1 11  1032      2    Shopping   Clear      10\n",
      "3     1   4.3 16.9  1179     -1  University   Clear       0\n",
      "4     1     6 13.1  1344      1  Restaurant   Clear       0\n",
      "5     1    0.6 6.5  1400     -1        Home   Clear      10\n",
      "6     2    0.4 6.7   375     -1        Home   Clear      15\n",
      "7     2   2.5 10.5   610      2     Library  Clouds      15\n",
      "8     2     3 13.5   740      3  Restaurant  Clouds      20\n",
      "9     2   5.8 16.5   840     -1  University  Clouds      15\n",
      "10    2     6.3 13  1283      1  Restaurant   Clear      10\n",
      "11    2    0.4 6.6  1410     -1        Home   Clear      15\n",
      "12    3      1 6.8   410     -1        Home   Clear      10\n",
      "13    3     4 14.5   635      2    Shopping  Clouds      15\n",
      "14    3   4.3 17.9   855     -1  University  Clouds      15\n",
      "15    3   6.3 13.1  1080      1  Restaurant   Clear      10\n",
      "16    3     6.4 11  1335      2  Restaurant   Clear      10\n",
      "17    4  11.8 17.5   430     -1        Home   Clear       0\n",
      "18    4       2 13   530      3      School   Clear       0\n",
      "19    4    4.5 9.5   750      2  Restaurant   Clear       5\n",
      "20    4     6.9 13  1140     -1  University   Clear       5\n",
      "21    5    8.2 1.5   345     -1        Home   Clear       0\n",
      "22    5      6.5 7   450      2      School   Clear      10\n",
      "23    5      4.5 9   480      2  Restaurant  Clouds      15\n",
      "24    5      6 3.5   540      2      Cowork    Rain      30\n",
      "25    6    8.9 1.5   540     -1        Home   Clear      10\n",
      "26    6    6.5 4.5   570      2  Restaurant  Clouds      15\n",
      "27    6        3 9   630      2    Shopping  Clouds      15\n",
      "28    6     3.5 16   810      1      Cowork  Clouds      20\n",
      "29    6     6.3 12  1090      1  Restaurant  Clouds      10\n"
     ]
    }
   ],
   "source": [
    "print(tabela)"
   ]
  },
  {
   "cell_type": "markdown",
   "metadata": {
    "id": "2wu-355iTZaD"
   },
   "source": [
    "Exibe o conteúdo do DataFrame tabela, mostrando todos os dados importados do arquivo CSV."
   ]
  },
  {
   "cell_type": "code",
   "execution_count": 12,
   "metadata": {
    "id": "lUrNnTCcTbbr"
   },
   "outputs": [],
   "source": [
    "coluna = tabela[\"tid\"]"
   ]
  },
  {
   "cell_type": "markdown",
   "metadata": {
    "id": "uAtLT7ssTo4D"
   },
   "source": [
    "Seleciona a coluna \"tid\" do DataFrame tabela e a armazena na variável coluna. Isso cria uma Series, que é uma estrutura de dados do pandas similar a uma lista, contendo todos os valores dessa coluna."
   ]
  },
  {
   "cell_type": "code",
   "execution_count": 13,
   "metadata": {
    "id": "1AcVAogsTsR7"
   },
   "outputs": [],
   "source": [
    "contador = 1"
   ]
  },
  {
   "cell_type": "markdown",
   "metadata": {
    "id": "EpZSTGI8TxvK"
   },
   "source": [
    "Inicializa uma variável contador com o valor 1. Essa variável será usada para contar o número de trajetórias diferentes, conforme será definido no próximo loop."
   ]
  },
  {
   "cell_type": "code",
   "execution_count": 14,
   "metadata": {
    "id": "lAUlhue4T1wS"
   },
   "outputs": [],
   "source": [
    "for i in range(1, len(coluna)):\n",
    "  if coluna[i] != coluna[i - 1]:\n",
    "    contador += 1"
   ]
  },
  {
   "cell_type": "markdown",
   "metadata": {
    "id": "nxAyv_AgT4nr"
   },
   "source": [
    "Inicia um loop for, que percorre os índices da coluna \"tid\", começando de 1 até o final (o índice 0 é ignorado, já que queremos comparar o valor atual com o anterior). A função len(coluna) retorna o número total de elementos da coluna \"tid\"."
   ]
  },
  {
   "cell_type": "markdown",
   "metadata": {
    "id": "a8bhhi0WUJry"
   },
   "source": [
    "Dentro do loop, essa linha verifica se o valor atual (coluna[i]) é diferente do valor anterior (coluna[i - 1]). Se os valores forem diferentes, isso indica que uma nova trajetória começou."
   ]
  },
  {
   "cell_type": "markdown",
   "metadata": {
    "id": "O1oNLx--UftJ"
   },
   "source": [
    "Se os valores forem diferentes (nova trajetória), incrementa o valor de contador em 1, ou seja, contabiliza mais uma trajetória diferente."
   ]
  },
  {
   "cell_type": "code",
   "execution_count": 15,
   "metadata": {
    "id": "4ClwENeyUidy"
   },
   "outputs": [
    {
     "name": "stdout",
     "output_type": "stream",
     "text": [
      "Quantidade de trajetória diferentes:  6\n"
     ]
    }
   ],
   "source": [
    "print(\"Quantidade de trajetória diferentes: \", contador)"
   ]
  },
  {
   "cell_type": "markdown",
   "metadata": {
    "id": "cZRfctWXUu_K"
   },
   "source": [
    "Ao final do loop, exibe a quantidade total de trajetórias diferentes, que foi armazenada na variável contador."
   ]
  },
  {
   "cell_type": "code",
   "execution_count": null,
   "metadata": {},
   "outputs": [],
   "source": []
  }
 ],
 "metadata": {
  "colab": {
   "provenance": []
  },
  "kernelspec": {
   "display_name": "Python 3 (ipykernel)",
   "language": "python",
   "name": "python3"
  },
  "language_info": {
   "codemirror_mode": {
    "name": "ipython",
    "version": 3
   },
   "file_extension": ".py",
   "mimetype": "text/x-python",
   "name": "python",
   "nbconvert_exporter": "python",
   "pygments_lexer": "ipython3",
   "version": "3.11.5"
  }
 },
 "nbformat": 4,
 "nbformat_minor": 1
}
